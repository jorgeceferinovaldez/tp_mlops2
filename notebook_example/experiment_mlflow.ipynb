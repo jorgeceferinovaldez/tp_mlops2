{
 "cells": [
  {
   "cell_type": "code",
   "execution_count": 1,
   "metadata": {
    "ExecuteTime": {
     "end_time": "2024-03-23T13:58:52.626717Z",
     "start_time": "2024-03-23T13:58:51.434801Z"
    }
   },
   "outputs": [
    {
     "name": "stdout",
     "output_type": "stream",
     "text": [
      "env: AWS_ACCESS_KEY_ID=minio\n",
      "env: AWS_SECRET_ACCESS_KEY=minio123\n",
      "env: MLFLOW_S3_ENDPOINT_URL=http://localhost:9000\n",
      "env: AWS_ENDPOINT_URL_S3=http://localhost:9000\n"
     ]
    }
   ],
   "source": [
    "import awswrangler as wr\n",
    "\n",
    "import mlflow\n",
    "\n",
    "# Para que funciones, todos nuestros scripts debemos exportar las siguientes variables de entorno\n",
    "%env AWS_ACCESS_KEY_ID=minio   \n",
    "%env AWS_SECRET_ACCESS_KEY=minio123 \n",
    "%env MLFLOW_S3_ENDPOINT_URL=http://localhost:9000\n",
    "%env AWS_ENDPOINT_URL_S3=http://localhost:9000"
   ]
  },
  {
   "cell_type": "markdown",
   "metadata": {},
   "source": [
    "# Búsqueda de mejor modelo e hiperparámetros\n",
    "\n",
    "Dado nuestro dataset, el cual ya pasó por el proceso de ETL y se encuentra en nuestro S3 bucket, vamos a realizar una búsqueda de cual seria el mejor modelo y que hiperparametros usar.\n",
    "\n",
    "La búsqueda de hiperparametros la haremos usando Optuna y el tracking será realizado mediante MLFlow.\n",
    "\n",
    "OBS: Para la confección de esta notebook, nos basamos en el tutorial de [MLFlow](https://mlflow.org/docs/latest/traditional-ml/hyperparameter-tuning-with-child-runs/notebooks/index.html)."
   ]
  },
  {
   "cell_type": "code",
   "execution_count": 2,
   "metadata": {
    "ExecuteTime": {
     "end_time": "2024-03-23T13:58:52.633829Z",
     "start_time": "2024-03-23T13:58:52.629497Z"
    }
   },
   "outputs": [],
   "source": [
    "mlflow_server = \"http://localhost:5000\"\n",
    "#mlflow_server = \"http://192.168.0.21:5000\"\n",
    "\n",
    "mlflow.set_tracking_uri(mlflow_server)"
   ]
  },
  {
   "cell_type": "code",
   "execution_count": 3,
   "metadata": {
    "ExecuteTime": {
     "end_time": "2024-03-23T13:58:53.919756Z",
     "start_time": "2024-03-23T13:58:53.345903Z"
    }
   },
   "outputs": [],
   "source": [
    "# Cargamos los datos para realizar nuestro estudio.\n",
    "# OBS, no vamos a cargar los datos de testing, nada de Data leakage por aquí\n",
    "X_train = wr.s3.read_csv(\"s3://data/final/train/star_X_train.csv\")\n",
    "y_train = wr.s3.read_csv(\"s3://data/final/train/star_y_train.csv\")\n",
    "\n",
    "X_test = wr.s3.read_csv(\"s3://data/final/test/star_X_test.csv\")\n",
    "y_test = wr.s3.read_csv(\"s3://data/final/test/star_y_test.csv\")\n"
   ]
  },
  {
   "cell_type": "code",
   "execution_count": 4,
   "metadata": {},
   "outputs": [
    {
     "name": "stdout",
     "output_type": "stream",
     "text": [
      "         obj_ID     alpha     delta         u         g         r         i  \\\n",
      "0      0.741830 -1.339006  0.927074 -0.022595 -0.020158 -0.326338 -0.161666   \n",
      "1      1.843556 -1.547946  0.213561  0.085403  0.038994  0.344700  0.215777   \n",
      "2      0.037969  0.074909  0.607924 -0.006894 -0.056332 -1.387834 -1.426082   \n",
      "3     -0.638195  0.293171  1.710685  0.058620  0.014860 -0.248609 -0.250206   \n",
      "4     -0.905604 -1.415036 -1.256858  0.050233  0.027945  0.186716 -0.172425   \n",
      "...         ...       ...       ...       ...       ...       ...       ...   \n",
      "69995 -0.822580 -0.440776  1.048059 -0.004085  0.012307  0.252382  0.115018   \n",
      "69996 -1.561394 -0.090200  2.222778 -0.108566 -0.105472 -1.962293 -1.850653   \n",
      "69997 -0.905604 -1.501545 -1.254292  0.044878  0.073430  1.023253  0.780233   \n",
      "69998 -0.264712  0.809840 -0.139629  0.110996  0.038243  0.537071  0.236863   \n",
      "69999 -1.222420  0.442989  1.794070  0.098153  0.048610  0.580871  0.308232   \n",
      "\n",
      "              z    run_ID   cam_col  field_ID  spec_obj_ID  redshift  \\\n",
      "0      0.000651  0.741732  0.940063  0.289935    -0.921776 -0.788212   \n",
      "1      0.015141  1.843454  0.940063 -0.979753     0.383736 -0.221732   \n",
      "2     -0.063045  0.037811  1.570615 -0.572116    -1.062138 -0.546578   \n",
      "3     -0.011762 -0.638095 -0.951593 -1.079991     0.565760 -0.399683   \n",
      "4     -0.012115 -0.905503 -0.951593 -0.298131    -0.303448 -0.001503   \n",
      "...         ...       ...       ...       ...          ...       ...   \n",
      "69995  0.011963 -0.822479 -0.951593 -0.658990    -0.151893  0.091094   \n",
      "69996 -0.075531 -1.561545  1.570615 -0.385004    -0.772288 -0.788247   \n",
      "69997  0.028038 -0.905503 -0.951593 -0.672355     0.914552 -0.017088   \n",
      "69998  0.014949 -0.264742  0.309511  0.069410    -0.325783 -0.073580   \n",
      "69999  0.014881 -1.222318 -0.951593  0.209744     0.566094  0.001504   \n",
      "\n",
      "          plate       MJD  fiber_ID  \n",
      "0     -0.921781 -1.008899  0.001342  \n",
      "1      0.383700  0.363468  1.677514  \n",
      "2     -1.062126 -1.188264 -0.799986  \n",
      "3      0.565742  0.472526  0.909268  \n",
      "4     -0.303449 -0.076642 -0.064823  \n",
      "...         ...       ...       ...  \n",
      "69995 -0.151916  0.232265  1.008516  \n",
      "69996 -0.772283 -0.603666 -0.436080  \n",
      "69997  0.914571  0.769808 -0.652954  \n",
      "69998 -0.325822  0.050685  1.662811  \n",
      "69999  0.566081  0.459794  0.707099  \n",
      "\n",
      "[70000 rows x 16 columns]\n"
     ]
    }
   ],
   "source": [
    "print(X_train)"
   ]
  },
  {
   "cell_type": "markdown",
   "metadata": {},
   "source": [
    "## Investigamos la correlación de features con la variable objetivo\n",
    "\n",
    "Antes de profundizar en el proceso de construcción de modelo, es esencial comprender las relaciones entre nuestras features  y la variable objetivo. Por lo que vamos a realizar un gráfico que indica el coeficiente de correlación de cada feature en relación con la variable objetivo. Esto nos sirve para:\n",
    "\n",
    "- Evitar data leakage: Debemos asegurarnos de que ninguna característica se correlacione perfectamente con el objetivo (un coeficiente de correlación de aproximadamente 1.0). Si existe tal correlación, es una señal de que nuestro conjunto de datos podría estar \"filtrando\" información sobre el objetivo. \n",
    "\n",
    "- Garantizar relaciones significativas: Idealmente, nuestras características deberían tener algún grado de correlación con el objetivo. Inclusive si estamos trabajando con un problema de clasificación, aunque los resultados no son tan importantes como en un caso de regresión.\n",
    "\n",
    "- Auditoría y trazabilidad: Loggear esta visualización de correlación con nuestra ejecución principal de MLflow garantiza la trazabilidad. Proporciona una instantánea de las características de los datos en el momento del entrenamiento del modelo, lo cual es invaluable para propósitos de auditoría y replicabilidad."
   ]
  },
  {
   "cell_type": "code",
   "execution_count": 5,
   "metadata": {
    "ExecuteTime": {
     "end_time": "2024-03-23T13:58:55.742436Z",
     "start_time": "2024-03-23T13:58:54.704687Z"
    }
   },
   "outputs": [],
   "source": [
    "from plots import plot_correlation_with_target, plot_information_gain_with_target"
   ]
  },
  {
   "cell_type": "code",
   "execution_count": 6,
   "metadata": {
    "ExecuteTime": {
     "end_time": "2024-03-23T13:58:55.925315Z",
     "start_time": "2024-03-23T13:58:55.743462Z"
    }
   },
   "outputs": [],
   "source": [
    "# Dado que estamos usando como tracking a MLFlow, mostrar los gráficos aquí no tiene sentido.\n",
    "correlation_plot = plot_correlation_with_target(X_train, y_train)\n",
    "information_gain_plot = plot_information_gain_with_target(X_train, y_train)"
   ]
  },
  {
   "cell_type": "markdown",
   "metadata": {},
   "source": [
    "## Arrancamos a experimentar"
   ]
  },
  {
   "cell_type": "code",
   "execution_count": 7,
   "metadata": {
    "ExecuteTime": {
     "end_time": "2024-03-23T13:58:58.450741Z",
     "start_time": "2024-03-23T13:58:57.929114Z"
    }
   },
   "outputs": [
    {
     "name": "stderr",
     "output_type": "stream",
     "text": [
      "/home/jorge/miniconda3/envs/ml-service/lib/python3.8/site-packages/tqdm/auto.py:21: TqdmWarning: IProgress not found. Please update jupyter and ipywidgets. See https://ipywidgets.readthedocs.io/en/stable/user_install.html\n",
      "  from .autonotebook import tqdm as notebook_tqdm\n"
     ]
    }
   ],
   "source": [
    "import datetime\n",
    "import optuna\n",
    "\n",
    "from mlflow.models import infer_signature\n",
    "from mlflow_aux import get_or_create_experiment\n",
    "\n",
    "from optuna_aux import champion_callback, objective\n",
    "\n",
    "from sklearn.svm import SVC \n",
    "from sklearn.tree import DecisionTreeClassifier\n",
    "from sklearn.ensemble import RandomForestClassifier\n",
    "from sklearn.metrics import f1_score\n",
    "\n",
    "# Optuna es un poco verboso, dejamos que solo nos muestre logs de errores\n",
    "optuna.logging.set_verbosity(optuna.logging.ERROR)"
   ]
  },
  {
   "cell_type": "markdown",
   "metadata": {},
   "source": [
    "Antes de poder realizar experimentos, vamos a crear el experimento en MLFLow, pero para evitar desorden, vamos a usar una función que se fije primero si el experimento existe, si esto es así, devuelve su ID.\n",
    "\n",
    "Además creamos el nombre del run padre con el que vamos a ir registrando las ejecuciones."
   ]
  },
  {
   "cell_type": "code",
   "execution_count": 8,
   "metadata": {
    "ExecuteTime": {
     "end_time": "2024-03-23T13:58:59.020326Z",
     "start_time": "2024-03-23T13:58:58.984334Z"
    }
   },
   "outputs": [
    {
     "name": "stdout",
     "output_type": "stream",
     "text": [
      "1\n"
     ]
    }
   ],
   "source": [
    "# Creemos el experimento\n",
    "experiment_id = get_or_create_experiment(\"Star Classification\")\n",
    "print(experiment_id)\n",
    "\n",
    "run_name_parent = \"best_hyperparam_\"  + datetime.datetime.today().strftime('%Y/%m/%d-%H:%M:%S\"')"
   ]
  },
  {
   "cell_type": "markdown",
   "metadata": {},
   "source": [
    "Ya con todo seteado, vamos a ejecutar la optimización usando Optuna, el cual realiza una búsqueda Bayesiana, la cual es más eficiente que una búsqueda de grilla tradicional. La desventaja es que es más difícil de paralelizar."
   ]
  },
  {
   "cell_type": "code",
   "execution_count": 9,
   "metadata": {
    "ExecuteTime": {
     "end_time": "2024-03-23T13:43:38.917876Z",
     "start_time": "2024-03-23T13:43:06.961581Z"
    }
   },
   "outputs": [
    {
     "name": "stdout",
     "output_type": "stream",
     "text": [
      "Initial trial 0 achieved value: 0.9431791980071045\n",
      "Trial 1 achieved value: 0.9461983845727884 with  0.3191% improvement\n",
      "Trial 2 achieved value: 0.9569111066114498 with  1.1195% improvement\n",
      "Trial 3 achieved value: 0.9697393639000037 with  1.3229% improvement\n",
      "Trial 20 achieved value: 0.9716886536495289 with  0.2006% improvement\n",
      "Trial 21 achieved value: 0.9723968283002655 with  0.0728% improvement\n",
      "Trial 31 achieved value: 0.9727713171840516 with  0.0385% improvement\n",
      "Trial 128 achieved value: 0.9728485907685649 with  0.0079% improvement\n",
      "Trial 173 achieved value: 0.9731956094535761 with  0.0357% improvement\n"
     ]
    },
    {
     "name": "stderr",
     "output_type": "stream",
     "text": [
      "Successfully registered model 'star_class_model_dev'.\n",
      "2024/04/27 16:57:10 INFO mlflow.store.model_registry.abstract_store: Waiting up to 300 seconds for model version to finish creation. Model name: star_class_model_dev, version 1\n",
      "Created version '1' of model 'star_class_model_dev'.\n"
     ]
    }
   ],
   "source": [
    "with mlflow.start_run(experiment_id=experiment_id, run_name=run_name_parent, nested=True):\n",
    "    # Inicializamos el estudio de Optuna\n",
    "    study = optuna.create_study(direction=\"maximize\")\n",
    "\n",
    "    # Ejecutamos los trials de optimización de hiperparametros. Cada uno de estos trials se ejecuta con un run separado, pero \n",
    "    # está anidado al run padre.\n",
    "    # Notar la adición del `champion_callback` para controlar qué mensajes mostramos\n",
    "    # Para entender mejor esto ver la documentación de objective y champion_callback en optuna_aux\n",
    "    study.optimize(lambda trial: objective(trial, X_train, y_train, experiment_id), n_trials=250, callbacks=[champion_callback])\n",
    "\n",
    "    # Una vez que terminamos la búsqueda, guardamos los mejores parámetros en el run padre.\n",
    "    mlflow.log_params(study.best_params)\n",
    "    mlflow.log_metric(\"best_train_f1\", study.best_value)\n",
    "\n",
    "    mlflow.set_tags(\n",
    "        tags={\n",
    "            \"project\": \"Star Classification\",\n",
    "            \"optimizer_engine\": \"optuna\",\n",
    "            \"model_family\": \"sklearn\",\n",
    "            \"feature_set_version\": 1,\n",
    "        }\n",
    "    )\n",
    "\n",
    "    # Una vez que terminamos la búsqueda, nos quedamos con el mejor modelo y lo entrenamos\n",
    "    if study.best_params[\"classifier\"] == \"SVC_linear\":\n",
    "        model = SVC(C=study.best_params[\"svc_c\"], kernel='linear', gamma='scale')\n",
    "    elif study.best_params[\"classifier\"] == \"SVC_poly\":\n",
    "        model = SVC(C=study.best_params[\"svc_c\"], kernel='poly', \n",
    "                    gamma='scale', degree=study.best_params[\"svc_poly_degree\"])\n",
    "    elif study.best_params[\"classifier\"] == \"SVC_rbf\":\n",
    "        model = SVC(C=study.best_params[\"svc_c\"], kernel='rbf', gamma='scale')\n",
    "    elif study.best_params[\"classifier\"] == \"DecisionTreeClassifier\":\n",
    "        model = DecisionTreeClassifier(max_depth=study.best_params[\"tree_max_depth\"])\n",
    "    else:\n",
    "        model = RandomForestClassifier(max_depth=study.best_params[\"rf_max_depth\"], \n",
    "                                       n_estimators=study.best_params[\"rf_n_estimators\"])\n",
    "\n",
    "    model = model.fit(X_train, y_train.to_numpy().ravel())\n",
    "\n",
    "    # Y testeamos el modelo y logueamos el resultado\n",
    "    y_pred = model.predict(X_test)\n",
    "    #f1_score = f1_score(y_test.to_numpy().ravel(), y_pred)\n",
    "    f1_score = f1_score(y_test.to_numpy().ravel(), y_pred, average='macro')\n",
    "    mlflow.log_metric(\"test_f1\", f1_score)\n",
    "\n",
    "    # Logueamos los artefactos de las gráficas de correlación y de information_gain\n",
    "    mlflow.log_figure(figure=correlation_plot, artifact_file=\"correlation_plot.png\")\n",
    "    mlflow.log_figure(figure=information_gain_plot, artifact_file=\"information_gain_plot.png\")\n",
    "\n",
    "    # Guardamos el artefacto del modelo\n",
    "    artifact_path = \"model\"\n",
    "\n",
    "    signature = infer_signature(X_train, model.predict(X_train))\n",
    "\n",
    "    mlflow.sklearn.log_model(\n",
    "        sk_model=model,\n",
    "        artifact_path=artifact_path,\n",
    "        signature=signature,\n",
    "        serialization_format='cloudpickle',\n",
    "        registered_model_name=\"star_class_model_dev\",\n",
    "        metadata={\"model_data_version\": 1}\n",
    "    )\n",
    "\n",
    "    # Obtenemos la ubicación del modelo guardado en MLFlow\n",
    "    model_uri = mlflow.get_artifact_uri(artifact_path)\n"
   ]
  },
  {
   "cell_type": "markdown",
   "metadata": {},
   "source": [
    "## Testeando el modelo\n",
    "\n",
    "Una vez que el modelo fue entrenado, podemos levantarlo y testearlo de una forma agnóstica a donde está guardado."
   ]
  },
  {
   "cell_type": "code",
   "execution_count": 13,
   "metadata": {
    "ExecuteTime": {
     "end_time": "2024-03-23T13:52:48.990896Z",
     "start_time": "2024-03-23T13:52:48.840129Z"
    }
   },
   "outputs": [
    {
     "name": "stderr",
     "output_type": "stream",
     "text": [
      "Downloading artifacts: 100%|██████████| 9/9 [00:00<00:00, 1412.22it/s] \n"
     ]
    }
   ],
   "source": [
    "loaded = mlflow.sklearn.load_model(model_uri)"
   ]
  },
  {
   "cell_type": "code",
   "execution_count": 14,
   "metadata": {},
   "outputs": [
    {
     "name": "stderr",
     "output_type": "stream",
     "text": [
      "/home/jorge/miniconda3/envs/ml-service/lib/python3.8/site-packages/sklearn/base.py:465: UserWarning: X does not have valid feature names, but RandomForestClassifier was fitted with feature names\n",
      "  warnings.warn(\n"
     ]
    },
    {
     "data": {
      "text/plain": [
       "array([2])"
      ]
     },
     "execution_count": 14,
     "metadata": {},
     "output_type": "execute_result"
    }
   ],
   "source": [
    "import numpy as np\n",
    "test_data = [0.741830344520968, -1.3390058817968316, 0.9270742100032214, -0.022594692703017016, -0.020158498007864664,\n",
    "             -0.32633765093444494, -0.16166633313766, 0.0006512010351584627, 0.7417317177335456, 0.9400630553605082, \n",
    "             0.2899351799963413, -0.9217758867440433, -0.788211578207859, -0.9217809160581861, -1.0088989161501674, 0.0013417780822043853]\n",
    "\n",
    "loaded.predict(np.array(test_data).reshape([1, -1]))"
   ]
  },
  {
   "cell_type": "markdown",
   "metadata": {},
   "source": [
    "## Registramos el modelo \n",
    "\n",
    "Realizamos el registro del modelo en MLflow. En este registro se pone el modelo productivo que luego se usará para servir en formato on-line."
   ]
  },
  {
   "cell_type": "code",
   "execution_count": 12,
   "metadata": {
    "ExecuteTime": {
     "end_time": "2024-03-23T13:53:33.534969Z",
     "start_time": "2024-03-23T13:53:33.462363Z"
    }
   },
   "outputs": [
    {
     "name": "stderr",
     "output_type": "stream",
     "text": [
      "2024/04/27 16:57:10 INFO mlflow.store.model_registry.abstract_store: Waiting up to 300 seconds for model version to finish creation. Model name: star_class_model_prod, version 1\n"
     ]
    }
   ],
   "source": [
    "from mlflow import MlflowClient\n",
    "\n",
    "client = MlflowClient()\n",
    "name = \"star_class_model_prod\"\n",
    "desc = \"This is a star classifier model \"\n",
    "\n",
    "# Creamos el modelo productivo\n",
    "client.create_registered_model(name=name, description=desc)\n",
    "\n",
    "# Guardamos como tag los hiper-parametros en la version del modelo\n",
    "tags = model.get_params()\n",
    "tags[\"model\"] = type(model).__name__\n",
    "tags[\"f1-score\"] = f1_score\n",
    "\n",
    "# Guardamos la version del modelo\n",
    "result = client.create_model_version(\n",
    "    name=name,\n",
    "    source=model_uri,\n",
    "    run_id=model_uri.split(\"/\")[-3],\n",
    "    tags=tags\n",
    ")\n",
    "\n",
    "# Y creamos como la version con el alias de champion para poder levantarlo en nuestro\n",
    "# proceso de servicio del modelo on-line.\n",
    "client.set_registered_model_alias(name, \"champion\", result.version)"
   ]
  }
 ],
 "metadata": {
  "kernelspec": {
   "display_name": "Python 3",
   "language": "python",
   "name": "python3"
  },
  "language_info": {
   "codemirror_mode": {
    "name": "ipython",
    "version": 3
   },
   "file_extension": ".py",
   "mimetype": "text/x-python",
   "name": "python",
   "nbconvert_exporter": "python",
   "pygments_lexer": "ipython3",
   "version": "3.8.19"
  }
 },
 "nbformat": 4,
 "nbformat_minor": 2
}
