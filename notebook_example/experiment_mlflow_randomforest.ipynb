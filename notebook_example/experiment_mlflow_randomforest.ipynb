{
 "cells": [
  {
   "cell_type": "code",
   "execution_count": 1,
   "id": "ddf68cba",
   "metadata": {},
   "outputs": [
    {
     "name": "stdout",
     "output_type": "stream",
     "text": [
      "env: AWS_ACCESS_KEY_ID=minio\n",
      "env: AWS_SECRET_ACCESS_KEY=minio123\n",
      "env: MLFLOW_S3_ENDPOINT_URL=http://localhost:9000\n",
      "env: AWS_ENDPOINT_URL_S3=http://localhost:9000\n"
     ]
    }
   ],
   "source": [
    "import awswrangler as wr\n",
    "import mlflow\n",
    "import datetime\n",
    "\n",
    "# Para que funciones, todos nuestros scripts debemos exportar las siguientes variables de entorno\n",
    "%env AWS_ACCESS_KEY_ID=minio   \n",
    "%env AWS_SECRET_ACCESS_KEY=minio123 \n",
    "%env MLFLOW_S3_ENDPOINT_URL=http://localhost:9000\n",
    "%env AWS_ENDPOINT_URL_S3=http://localhost:9000"
   ]
  },
  {
   "cell_type": "markdown",
   "id": "5545790c",
   "metadata": {},
   "source": [
    "## Entrenamiento de un modelo Random Forest con parámetros específicos para clasificación de estrellas."
   ]
  },
  {
   "cell_type": "code",
   "execution_count": 2,
   "id": "04543e4e",
   "metadata": {},
   "outputs": [],
   "source": [
    "mlflow_server = \"http://localhost:5000\"\n",
    "#mlflow_server = \"http://192.168.0.21:5000\"\n",
    "\n",
    "mlflow.set_tracking_uri(mlflow_server)\n",
    "\n",
    "# %%\n",
    "# Cargamos los datos para realizar nuestro entrenamiento\n",
    "X_train = wr.s3.read_csv(\"s3://data/final/train/star_X_train.csv\")\n",
    "y_train = wr.s3.read_csv(\"s3://data/final/train/star_y_train.csv\")\n",
    "\n",
    "X_test = wr.s3.read_csv(\"s3://data/final/test/star_X_test.csv\")\n",
    "y_test = wr.s3.read_csv(\"s3://data/final/test/star_y_test.csv\")"
   ]
  },
  {
   "cell_type": "code",
   "execution_count": 3,
   "id": "8d219c5d",
   "metadata": {},
   "outputs": [
    {
     "name": "stdout",
     "output_type": "stream",
     "text": [
      "         obj_ID     alpha     delta         u         g         r         i  \\\n",
      "0     -0.151403  1.506682 -1.229315 -0.027928 -0.042080 -0.968742 -0.945357   \n",
      "1      1.721125 -1.471247 -1.433494 -0.000849  0.012195  0.704779  0.932464   \n",
      "2     -1.097912  0.808174  0.425162  0.088323  0.073398  1.037008  0.767655   \n",
      "3      1.844968  1.798912 -0.070862  0.002050  0.021201  0.218118  0.134464   \n",
      "4      0.293375 -0.112060  0.167313 -0.060604 -0.047515 -0.691826 -0.472763   \n",
      "...         ...       ...       ...       ...       ...       ...       ...   \n",
      "69995  0.773724 -0.472021 -0.652333  0.036142  0.001115 -0.474954 -0.524982   \n",
      "69996 -0.469664 -0.254866  0.802815 -0.072694 -0.037749 -0.290759 -0.096327   \n",
      "69997 -0.641045  0.352595  1.751331  0.038174  0.049127  0.645290  0.447952   \n",
      "69998 -0.151276  1.497554 -1.180462  0.051178  0.050648  0.532544  0.435954   \n",
      "69999  1.643676  1.862628 -0.354669  0.012606  0.059742  0.715077  0.485265   \n",
      "\n",
      "              z    run_ID   cam_col  field_ID  spec_obj_ID  redshift  \\\n",
      "0     -0.039372 -0.151433  0.309010 -0.579043    -1.394009 -0.602496   \n",
      "1      0.040261  1.721086  0.309010 -0.243618    -0.255846  0.372211   \n",
      "2      0.030596 -1.097874 -0.321017 -0.485124     1.951957 -0.788033   \n",
      "3      0.007056  1.844800  1.569065 -0.008820     0.329526 -0.083694   \n",
      "4     -0.010605  0.293532 -1.581071  1.030998     0.430521 -0.787192   \n",
      "...         ...       ...       ...       ...          ...       ...   \n",
      "69995 -0.020378  0.773626  0.939037 -0.532084     0.049222 -0.373661   \n",
      "69996  0.008862 -0.469628 -0.321017 -0.994971     1.248682  1.580880   \n",
      "69997  0.015693 -0.641200  1.569065 -0.981554     0.563381 -0.053822   \n",
      "69998  0.024981 -0.151433  1.569065 -0.619294    -0.321574 -0.162128   \n",
      "69999  0.015847  1.643701 -0.321017  0.172310     0.335921 -0.077719   \n",
      "\n",
      "          plate       MJD  fiber_ID  \n",
      "0     -1.394005 -1.483743 -0.510881  \n",
      "1     -0.255857 -0.032115  0.421753  \n",
      "2      1.951975  1.552939 -0.327291  \n",
      "3      0.329487  0.341588  1.828046  \n",
      "4      0.430490  0.424080  1.519616  \n",
      "...         ...       ...       ...  \n",
      "69995  0.049186  0.199304  1.582036  \n",
      "69996  1.248682  1.029755  0.318943  \n",
      "69997  0.563353  0.473353  1.409463  \n",
      "69998 -0.321610 -0.064225  1.545319  \n",
      "69999  0.335926  0.362073 -0.162061  \n",
      "\n",
      "[70000 rows x 16 columns]\n"
     ]
    }
   ],
   "source": [
    "print(X_train)"
   ]
  },
  {
   "cell_type": "code",
   "execution_count": 4,
   "id": "80752429",
   "metadata": {},
   "outputs": [],
   "source": [
    "from mlflow.models import infer_signature\n",
    "from mlflow_aux import get_or_create_experiment\n",
    "from sklearn.ensemble import RandomForestClassifier\n",
    "from sklearn.metrics import f1_score"
   ]
  },
  {
   "cell_type": "code",
   "execution_count": 5,
   "id": "b428852e",
   "metadata": {},
   "outputs": [
    {
     "name": "stdout",
     "output_type": "stream",
     "text": [
      "1\n"
     ]
    }
   ],
   "source": [
    "# Creamos el experimento (usa el mismo experimento existente)\n",
    "experiment_id = get_or_create_experiment(\"Star Classification\")\n",
    "print(experiment_id)\n",
    "\n",
    "run_name = \"Train RF\""
   ]
  },
  {
   "cell_type": "markdown",
   "id": "ce20f756",
   "metadata": {},
   "source": [
    "## Inicio del experimento"
   ]
  },
  {
   "cell_type": "code",
   "execution_count": 6,
   "id": "6f090188",
   "metadata": {},
   "outputs": [
    {
     "name": "stderr",
     "output_type": "stream",
     "text": [
      "2025/08/07 01:11:30 WARNING mlflow.models.model: `artifact_path` is deprecated. Please use `name` instead.\n",
      "Registered model 'star_class_model_dev' already exists. Creating a new version of this model...\n",
      "2025/08/07 01:11:32 INFO mlflow.store.model_registry.abstract_store: Waiting up to 300 seconds for model version to finish creation. Model name: star_class_model_dev, version 4\n"
     ]
    },
    {
     "name": "stdout",
     "output_type": "stream",
     "text": [
      "Train F1 Score: 0.4960\n",
      "Test F1 Score: 0.2977\n",
      "Model saved at: s3://mlflow/1/00d352c403304299bdbe1f60446fb8bc/artifacts/model\n",
      "🏃 View run Train RF at: http://localhost:5000/#/experiments/1/runs/00d352c403304299bdbe1f60446fb8bc\n",
      "🧪 View experiment at: http://localhost:5000/#/experiments/1\n"
     ]
    },
    {
     "name": "stderr",
     "output_type": "stream",
     "text": [
      "Created version '4' of model 'star_class_model_dev'.\n"
     ]
    }
   ],
   "source": [
    "# Entrenamos el modelo Random Forest con los parámetros especificados\n",
    "with mlflow.start_run(experiment_id=experiment_id, run_name=run_name):\n",
    "    \n",
    "    # Definimos los parámetros del modelo\n",
    "    rf_params = {\n",
    "        \"n_estimators\": 200,\n",
    "        \"max_depth\": 25\n",
    "    }\n",
    "    \n",
    "    # Creamos y entrenamos el modelo\n",
    "    model = RandomForestClassifier(\n",
    "        n_estimators=rf_params[\"n_estimators\"],\n",
    "        max_depth=rf_params[\"max_depth\"]\n",
    "    )\n",
    "    \n",
    "    model = model.fit(X_train, y_train.to_numpy().ravel())\n",
    "    \n",
    "    # Logueamos los parámetros\n",
    "    mlflow.log_params(rf_params)\n",
    "    \n",
    "    # Evaluamos en conjunto de entrenamiento\n",
    "    y_train_pred = model.predict(X_train)\n",
    "    train_f1 = f1_score(y_train.to_numpy().ravel(), y_train_pred, average='macro')\n",
    "    mlflow.log_metric(\"train_f1\", train_f1)\n",
    "    \n",
    "    # Evaluamos en conjunto de prueba\n",
    "    y_test_pred = model.predict(X_test)\n",
    "    test_f1 = f1_score(y_test.to_numpy().ravel(), y_test_pred, average='macro')\n",
    "    mlflow.log_metric(\"test_f1\", test_f1)\n",
    "    \n",
    "    # Configuramos tags para el experimento\n",
    "    mlflow.set_tags(\n",
    "        tags={\n",
    "            \"project\": \"Star Classification\",\n",
    "            \"model_family\": \"sklearn\",\n",
    "            \"model_type\": \"RandomForestClassifier\",\n",
    "            \"feature_set_version\": 1,\n",
    "        }\n",
    "    )\n",
    "    \n",
    "    # Guardamos el artefacto del modelo\n",
    "    artifact_path = \"model\"\n",
    "    \n",
    "    signature = infer_signature(X_train, model.predict(X_train))\n",
    "    \n",
    "    mlflow.sklearn.log_model(\n",
    "        sk_model=model,\n",
    "        artifact_path=artifact_path,\n",
    "        signature=signature,\n",
    "        serialization_format='cloudpickle',\n",
    "        registered_model_name=\"star_class_model_dev\",\n",
    "        metadata={\"model_data_version\": 1}\n",
    "    )\n",
    "    \n",
    "    # Obtenemos la ubicación del modelo guardado en MLFlow\n",
    "    model_uri = mlflow.get_artifact_uri(artifact_path)\n",
    "    \n",
    "    print(f\"Train F1 Score: {train_f1:.4f}\")\n",
    "    print(f\"Test F1 Score: {test_f1:.4f}\")\n",
    "    print(f\"Model saved at: {model_uri}\")\n",
    "    \n",
    "    # Guardamos el run_id para usarlo después\n",
    "    current_run_id = mlflow.active_run().info.run_id\n"
   ]
  },
  {
   "cell_type": "markdown",
   "id": "b4faf58b",
   "metadata": {},
   "source": [
    "## Testeando el modelo"
   ]
  },
  {
   "cell_type": "code",
   "execution_count": 7,
   "id": "cf6655e0",
   "metadata": {},
   "outputs": [],
   "source": [
    "# Primero probamos con el modelo que ya tenemos en memoria\n",
    "import numpy as np\n",
    "test_data = [0.741830344520968, -1.3390058817968316, 0.9270742100032214, -0.022594692703017016, -0.020158498007864664,\n",
    "             -0.32633765093444494, -0.16166633313766, 0.0006512010351584627, 0.7417317177335456, 0.9400630553605082, \n",
    "             0.2899351799963413, -0.9217758867440433, -0.788211578207859, -0.9217809160581861, -1.0088989161501674, 0.0013417780822043853]\n"
   ]
  },
  {
   "cell_type": "code",
   "execution_count": 8,
   "id": "5865d64f",
   "metadata": {},
   "outputs": [
    {
     "name": "stdout",
     "output_type": "stream",
     "text": [
      "Prediction with in-memory model: [0]\n"
     ]
    },
    {
     "name": "stderr",
     "output_type": "stream",
     "text": [
      "/home/jorge/miniconda3/envs/mlops-5/lib/python3.10/site-packages/sklearn/utils/validation.py:2749: UserWarning: X does not have valid feature names, but RandomForestClassifier was fitted with feature names\n",
      "  warnings.warn(\n"
     ]
    }
   ],
   "source": [
    "# Usamos el modelo que ya está en memoria\n",
    "prediction = model.predict(np.array(test_data).reshape([1, -1]))\n",
    "print(f\"Prediction with in-memory model: {prediction}\")"
   ]
  },
  {
   "cell_type": "code",
   "execution_count": 9,
   "id": "d3306425",
   "metadata": {},
   "outputs": [
    {
     "name": "stderr",
     "output_type": "stream",
     "text": [
      "/home/jorge/miniconda3/envs/mlops-5/lib/python3.10/site-packages/tqdm/auto.py:21: TqdmWarning: IProgress not found. Please update jupyter and ipywidgets. See https://ipywidgets.readthedocs.io/en/stable/user_install.html\n",
      "  from .autonotebook import tqdm as notebook_tqdm\n"
     ]
    },
    {
     "name": "stdout",
     "output_type": "stream",
     "text": [
      "Intentando cargar el modelo...\n"
     ]
    },
    {
     "name": "stderr",
     "output_type": "stream",
     "text": [
      "Downloading artifacts:   0%|          | 0/1 [00:00<?, ?it/s]\n"
     ]
    },
    {
     "name": "stdout",
     "output_type": "stream",
     "text": [
      "✗ Error cargando desde run artifacts: The following failures occurred while downloading one or more artifacts from s3://mlflow/1/00d352c403304299bdbe1f60446fb8bc/artifacts:\n",
      "##### File model #####\n",
      "An error occurred (404) when calling the HeadObject operation: Not Found\n"
     ]
    },
    {
     "name": "stderr",
     "output_type": "stream",
     "text": [
      "Downloading artifacts: 100%|██████████| 5/5 [00:00<00:00, 17.46it/s]   "
     ]
    },
    {
     "name": "stdout",
     "output_type": "stream",
     "text": [
      "✓ Modelo cargado desde Model Registry (dev): [0]\n"
     ]
    },
    {
     "name": "stderr",
     "output_type": "stream",
     "text": [
      "\n",
      "/home/jorge/miniconda3/envs/mlops-5/lib/python3.10/site-packages/sklearn/utils/validation.py:2749: UserWarning: X does not have valid feature names, but RandomForestClassifier was fitted with feature names\n",
      "  warnings.warn(\n"
     ]
    }
   ],
   "source": [
    "# Intentamos cargar el modelo desde diferentes fuentes\n",
    "print(\"Intentando cargar el modelo...\")\n",
    "loaded = None\n",
    "\n",
    "# Opción 1: Cargar desde el run artifacts\n",
    "try:\n",
    "    loaded = mlflow.sklearn.load_model(model_uri)\n",
    "    prediction_loaded = loaded.predict(np.array(test_data).reshape([1, -1]))\n",
    "    print(f\"✓ Modelo cargado desde run artifacts: {prediction_loaded}\")\n",
    "except Exception as e:\n",
    "    print(f\"✗ Error cargando desde run artifacts: {e}\")\n",
    "\n",
    "# Opción 2: Cargar desde el Model Registry (más probable que funcione)\n",
    "if loaded is None:\n",
    "    try:\n",
    "        # Cargamos desde el modelo registrado en desarrollo\n",
    "        loaded = mlflow.sklearn.load_model(\"models:/star_class_model_dev/latest\")\n",
    "        prediction_loaded = loaded.predict(np.array(test_data).reshape([1, -1]))\n",
    "        print(f\"✓ Modelo cargado desde Model Registry (dev): {prediction_loaded}\")\n",
    "    except Exception as e:\n",
    "        print(f\"✗ Error cargando desde Model Registry (dev): {e}\")\n",
    "\n",
    "# Opción 3: Si todo falla, usar el modelo en memoria\n",
    "if loaded is None:\n",
    "    print(\"Usando modelo en memoria como fallback\")\n",
    "    loaded = model\n"
   ]
  },
  {
   "cell_type": "markdown",
   "id": "3c7cacd6",
   "metadata": {},
   "source": [
    "## Registramos el modelo \n",
    "\n",
    "Realizamos el registro del modelo en MLflow. En este registro se pone el modelo productivo que luego se usará para servir en formato on-line."
   ]
  },
  {
   "cell_type": "code",
   "execution_count": 10,
   "id": "da6e4c99",
   "metadata": {},
   "outputs": [
    {
     "name": "stderr",
     "output_type": "stream",
     "text": [
      "2025/08/07 01:11:33 INFO mlflow.store.model_registry.abstract_store: Waiting up to 300 seconds for model version to finish creation. Model name: star_class_model_prod, version 1\n"
     ]
    },
    {
     "name": "stdout",
     "output_type": "stream",
     "text": [
      "ℹ Model registry 'star_class_model_prod' ya existe: RESOURCE_ALREADY_EXISTS: Registered Model (name=star_class_model_prod) already exists.\n",
      "✓ Model version 1 registered and set as champion\n",
      "✓ Modelo disponible en: models:/star_class_model_prod/champion\n",
      "⚠ Error probando modelo productivo: INVALID_PARAMETER_VALUE: Invalid Model Version stage: champion. Value must be one of None, Staging, Production, Archived.\n"
     ]
    }
   ],
   "source": [
    "### Registramos el modelo en producción \n",
    "#Realizamos el registro del modelo en MLflow para producción.\n",
    "\n",
    "from mlflow import MlflowClient\n",
    "\n",
    "client = MlflowClient()\n",
    "name = \"star_class_model_prod\"\n",
    "desc = \"This is a star classifier model - Random Forest\"\n",
    "\n",
    "# Intentamos crear el modelo productivo (si ya existe, continuamos)\n",
    "try:\n",
    "    client.create_registered_model(name=name, description=desc)\n",
    "    print(f\"✓ Modelo registrado '{name}' creado\")\n",
    "except Exception as e:\n",
    "    print(f\"ℹ Model registry '{name}' ya existe: {e}\")\n",
    "\n",
    "# Guardamos como tag los hiper-parámetros en la versión del modelo\n",
    "tags = model.get_params()\n",
    "tags[\"model\"] = type(model).__name__\n",
    "tags[\"f1_score\"] = str(test_f1)\n",
    "tags[\"run_id\"] = current_run_id\n",
    "\n",
    "# Guardamos la versión del modelo\n",
    "try:\n",
    "    result = client.create_model_version(\n",
    "        name=name,\n",
    "        source=model_uri,\n",
    "        run_id=current_run_id,\n",
    "        tags=tags\n",
    "    )\n",
    "    \n",
    "    # Y creamos como la versión con el alias de champion para poder levantarlo en nuestro\n",
    "    # proceso de servicio del modelo on-line.\n",
    "    client.set_registered_model_alias(name, \"champion\", result.version)\n",
    "    \n",
    "    print(f\"✓ Model version {result.version} registered and set as champion\")\n",
    "    print(f\"✓ Modelo disponible en: models:/{name}/champion\")\n",
    "    \n",
    "    # Probamos cargar el modelo desde producción\n",
    "    try:\n",
    "        prod_model = mlflow.sklearn.load_model(f\"models:/{name}/champion\")\n",
    "        prod_prediction = prod_model.predict(np.array(test_data).reshape([1, -1]))\n",
    "        print(f\"✓ Modelo productivo funciona correctamente: {prod_prediction}\")\n",
    "    except Exception as e:\n",
    "        print(f\"⚠ Error probando modelo productivo: {e}\")\n",
    "    \n",
    "except Exception as e:\n",
    "    print(f\"✗ Error registering model version: {e}\")\n",
    "    print(\"Model was trained successfully but not registered in production registry\")"
   ]
  }
 ],
 "metadata": {
  "kernelspec": {
   "display_name": "mlops-5",
   "language": "python",
   "name": "python3"
  },
  "language_info": {
   "codemirror_mode": {
    "name": "ipython",
    "version": 3
   },
   "file_extension": ".py",
   "mimetype": "text/x-python",
   "name": "python",
   "nbconvert_exporter": "python",
   "pygments_lexer": "ipython3",
   "version": "3.10.18"
  }
 },
 "nbformat": 4,
 "nbformat_minor": 5
}
